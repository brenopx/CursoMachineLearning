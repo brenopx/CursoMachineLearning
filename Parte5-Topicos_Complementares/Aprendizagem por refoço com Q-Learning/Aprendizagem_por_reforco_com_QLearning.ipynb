{
 "cells": [
  {
   "cell_type": "markdown",
   "metadata": {},
   "source": [
    "Aprendizagem por Reforço com Q-Learning"
   ]
  },
  {
   "cell_type": "markdown",
   "metadata": {},
   "source": [
    "Entendimento do Ambiente"
   ]
  },
  {
   "cell_type": "code",
   "execution_count": 82,
   "metadata": {},
   "outputs": [],
   "source": [
    "import gym\n",
    "import random\n",
    "import numpy as np\n",
    "from time import sleep"
   ]
  },
  {
   "cell_type": "code",
   "execution_count": 53,
   "metadata": {},
   "outputs": [],
   "source": [
    "env = gym.make('Taxi-v3').env"
   ]
  },
  {
   "cell_type": "code",
   "execution_count": 54,
   "metadata": {},
   "outputs": [],
   "source": [
    "# env.render()"
   ]
  },
  {
   "cell_type": "code",
   "execution_count": 55,
   "metadata": {},
   "outputs": [
    {
     "name": "stdout",
     "output_type": "stream",
     "text": [
      "+---------+\n",
      "|\u001b[34;1mR\u001b[0m: | : :G|\n",
      "| : | : : |\n",
      "| : : : : |\n",
      "| | : | : |\n",
      "|\u001b[35mY\u001b[0m| : |B:\u001b[43m \u001b[0m|\n",
      "+---------+\n",
      "\n"
     ]
    }
   ],
   "source": [
    "env.reset()\n",
    "env.render()"
   ]
  },
  {
   "cell_type": "code",
   "execution_count": 56,
   "metadata": {},
   "outputs": [
    {
     "name": "stdout",
     "output_type": "stream",
     "text": [
      "Discrete(6)\n"
     ]
    }
   ],
   "source": [
    "# 0 = south, 1 = north, 2 = east, 3 = west, 4 = pickup, 5 = dropoff\n",
    "print(env.action_space)"
   ]
  },
  {
   "cell_type": "code",
   "execution_count": 57,
   "metadata": {},
   "outputs": [
    {
     "name": "stdout",
     "output_type": "stream",
     "text": [
      "Discrete(500)\n"
     ]
    }
   ],
   "source": [
    "# 4 dsetinos\n",
    "print(env.observation_space)"
   ]
  },
  {
   "cell_type": "code",
   "execution_count": 58,
   "metadata": {},
   "outputs": [
    {
     "data": {
      "text/plain": [
       "500"
      ]
     },
     "execution_count": 58,
     "metadata": {},
     "output_type": "execute_result"
    }
   ],
   "source": [
    "len(env.P)"
   ]
  },
  {
   "cell_type": "code",
   "execution_count": 59,
   "metadata": {},
   "outputs": [
    {
     "data": {
      "text/plain": [
       "{0: [(1.0, 484, -1, False)],\n",
       " 1: [(1.0, 384, -1, False)],\n",
       " 2: [(1.0, 484, -1, False)],\n",
       " 3: [(1.0, 464, -1, False)],\n",
       " 4: [(1.0, 484, -10, False)],\n",
       " 5: [(1.0, 484, -10, False)]}"
      ]
     },
     "execution_count": 59,
     "metadata": {},
     "output_type": "execute_result"
    }
   ],
   "source": [
    "env.P[484]"
   ]
  },
  {
   "cell_type": "markdown",
   "metadata": {},
   "source": [
    "Treinamento"
   ]
  },
  {
   "cell_type": "code",
   "execution_count": 60,
   "metadata": {},
   "outputs": [
    {
     "data": {
      "text/plain": [
       "(500, 6)"
      ]
     },
     "execution_count": 60,
     "metadata": {},
     "output_type": "execute_result"
    }
   ],
   "source": [
    "q_table = np.zeros([env.observation_space.n, env.action_space.n])\n",
    "q_table.shape"
   ]
  },
  {
   "cell_type": "code",
   "execution_count": 74,
   "metadata": {},
   "outputs": [
    {
     "name": "stdout",
     "output_type": "stream",
     "text": [
      "Episódio:  99900\n",
      "Treinamento concluído\n"
     ]
    }
   ],
   "source": [
    "# 1-10% 3-90%\n",
    "# exploration / exploitation\n",
    "# 0 = south 1 = north 2 = east 3 = west 4 = pickup 5 = dropoff\n",
    "from IPython.display import clear_output\n",
    "\n",
    "alpha = 0.1\n",
    "gamma = 0.6\n",
    "epsilon = 0.1\n",
    "\n",
    "for i in range(100000):\n",
    "  estado = env.reset()\n",
    "\n",
    "  penalidades, recompensa = 0, 0\n",
    "  done = False\n",
    "  while not done:\n",
    "    # Exploração\n",
    "    if random.uniform(0, 1) < epsilon:\n",
    "      acao = env.action_space.sample()\n",
    "    # Exploitation\n",
    "    else:\n",
    "      acao = np.argmax(q_table[estado])\n",
    "\n",
    "    proximo_estado, recompensa, done, info = env.step(acao)\n",
    "\n",
    "    q_antigo = q_table[estado, acao]\n",
    "    proximo_maximo = np.max(q_table[proximo_estado])\n",
    "\n",
    "    q_novo = (1 - alpha) * q_antigo + alpha * (recompensa + gamma * proximo_maximo)\n",
    "    q_table[estado, acao] = q_novo\n",
    "\n",
    "    if recompensa == -10:\n",
    "      penalidades += 1\n",
    "\n",
    "    estado = proximo_estado\n",
    "\n",
    "  if i % 100 == 0:\n",
    "    clear_output(wait=True)\n",
    "    print('Episódio: ', i)\n",
    "\n",
    "print('Treinamento concluído')"
   ]
  },
  {
   "cell_type": "code",
   "execution_count": 75,
   "metadata": {},
   "outputs": [
    {
     "data": {
      "text/plain": [
       "array([[  0.        ,   0.        ,   0.        ,   0.        ,\n",
       "          0.        ,   0.        ],\n",
       "       [ -2.41837066,  -2.3639511 ,  -2.41837066,  -2.3639511 ,\n",
       "         -2.27325184, -11.3639511 ],\n",
       "       [ -1.870144  ,  -1.45024   ,  -1.870144  ,  -1.45024   ,\n",
       "         -0.7504    , -10.45024   ],\n",
       "       ...,\n",
       "       [ -1.04525712,   0.416     ,  -0.89586219,  -1.27781499,\n",
       "         -5.15420151,  -6.09602988],\n",
       "       [ -2.18977562,  -2.1220864 ,  -2.19041906,  -2.1220864 ,\n",
       "         -8.25826072,  -5.66337427],\n",
       "       [  4.23572361,   1.8863539 ,   4.27406063,  11.        ,\n",
       "         -3.16668834,  -2.64685539]])"
      ]
     },
     "execution_count": 75,
     "metadata": {},
     "output_type": "execute_result"
    }
   ],
   "source": [
    "q_table"
   ]
  },
  {
   "cell_type": "code",
   "execution_count": 76,
   "metadata": {},
   "outputs": [
    {
     "name": "stdout",
     "output_type": "stream",
     "text": [
      "+---------+\n",
      "|\u001b[35mR\u001b[0m: | : :\u001b[34;1mG\u001b[0m|\n",
      "| : | : : |\n",
      "| : : : : |\n",
      "| | : | :\u001b[43m \u001b[0m|\n",
      "|Y| : |B: |\n",
      "+---------+\n",
      "\n"
     ]
    }
   ],
   "source": [
    "env.reset()\n",
    "env.render()"
   ]
  },
  {
   "cell_type": "code",
   "execution_count": 77,
   "metadata": {},
   "outputs": [
    {
     "data": {
      "text/plain": [
       "388"
      ]
     },
     "execution_count": 77,
     "metadata": {},
     "output_type": "execute_result"
    }
   ],
   "source": [
    "env.encode(3, 4, 2, 0)"
   ]
  },
  {
   "cell_type": "code",
   "execution_count": 78,
   "metadata": {},
   "outputs": [
    {
     "data": {
      "text/plain": [
       "array([ -2.48041796,  -2.4510224 ,  -2.46973686,  -2.4510224 ,\n",
       "       -11.32560378, -10.30035275])"
      ]
     },
     "execution_count": 78,
     "metadata": {},
     "output_type": "execute_result"
    }
   ],
   "source": [
    "q_table[388]"
   ]
  },
  {
   "cell_type": "markdown",
   "metadata": {},
   "source": [
    "Avaliação"
   ]
  },
  {
   "cell_type": "code",
   "execution_count": 80,
   "metadata": {},
   "outputs": [
    {
     "name": "stdout",
     "output_type": "stream",
     "text": [
      "Episódios 50\n",
      "Penalidades 0\n"
     ]
    }
   ],
   "source": [
    "total_penalidades = 0\n",
    "episodios = 50\n",
    "frames = []\n",
    "\n",
    "for _ in range(episodios):\n",
    "    estado = env.reset()\n",
    "    penalidades, recompesa = 0, 0\n",
    "    done = False\n",
    "    while not done:\n",
    "        acao = np.argmax(q_table[estado])\n",
    "        estado, recompensa, done, info = env.step(acao)\n",
    "\n",
    "    if recompensa == -10:\n",
    "        penalidades += 1\n",
    "\n",
    "        frames.append({\n",
    "            'frame': env.render(mode='ansi'),\n",
    "            'state': estado,\n",
    "            'action': acao,\n",
    "            'reward': recompensa        \n",
    "        })\n",
    "\n",
    "    total_penalidades += penalidades\n",
    "print('Episódios', episodios)\n",
    "print('Penalidades', total_penalidades)"
   ]
  },
  {
   "cell_type": "code",
   "execution_count": 83,
   "metadata": {},
   "outputs": [],
   "source": [
    "for frame in frames:\n",
    "    clear_output(wait=True)\n",
    "    print(frame['frame'])\n",
    "    print('Estado', frame['state'])\n",
    "    print('Acão', frame['action'])\n",
    "    print('Recompensa', frame['reward'])\n",
    "    sleep(.1)"
   ]
  }
 ],
 "metadata": {
  "interpreter": {
   "hash": "552d2b7b9e9e4ed5a1d94a67e1ddcd9de1a38556c9f3135074669235b245b1d8"
  },
  "kernelspec": {
   "display_name": "Python 3.8.10 ('machine': venv)",
   "language": "python",
   "name": "python3"
  },
  "language_info": {
   "codemirror_mode": {
    "name": "ipython",
    "version": 3
   },
   "file_extension": ".py",
   "mimetype": "text/x-python",
   "name": "python",
   "nbconvert_exporter": "python",
   "pygments_lexer": "ipython3",
   "version": "3.8.10"
  },
  "orig_nbformat": 4
 },
 "nbformat": 4,
 "nbformat_minor": 2
}
