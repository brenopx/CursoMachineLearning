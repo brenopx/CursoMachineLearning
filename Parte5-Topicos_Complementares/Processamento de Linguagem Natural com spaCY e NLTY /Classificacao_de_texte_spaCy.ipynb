{
 "cells": [
  {
   "cell_type": "markdown",
   "metadata": {},
   "source": [
    "Classificação de Texto com spaCy"
   ]
  },
  {
   "cell_type": "markdown",
   "metadata": {},
   "source": [
    "Etapa 1: importação e Instalação das Bibliotacas"
   ]
  },
  {
   "cell_type": "code",
   "execution_count": null,
   "metadata": {},
   "outputs": [],
   "source": [
    "import pandas as pd\n",
    "import string\n",
    "import spacy\n",
    "import random\n",
    "import seaborn as sns\n",
    "import numpy as np"
   ]
  },
  {
   "cell_type": "code",
   "execution_count": null,
   "metadata": {},
   "outputs": [],
   "source": [
    "pln = spacy.load('pt_core_news_sm')\n",
    "pln"
   ]
  },
  {
   "cell_type": "markdown",
   "metadata": {},
   "source": [
    "Etapa 2: Carregamento da base de dados"
   ]
  },
  {
   "cell_type": "code",
   "execution_count": null,
   "metadata": {},
   "outputs": [],
   "source": [
    "base_dados = pd.read_csv('base_treinamento.txt', encoding = 'utf-8')"
   ]
  },
  {
   "cell_type": "code",
   "execution_count": null,
   "metadata": {},
   "outputs": [],
   "source": [
    "base_dados.shape"
   ]
  },
  {
   "cell_type": "code",
   "execution_count": null,
   "metadata": {},
   "outputs": [],
   "source": [
    "base_dados.head()"
   ]
  },
  {
   "cell_type": "code",
   "execution_count": null,
   "metadata": {},
   "outputs": [],
   "source": [
    "base_dados.tail()"
   ]
  },
  {
   "cell_type": "code",
   "execution_count": null,
   "metadata": {},
   "outputs": [],
   "source": [
    "sns.countplot(base_dados['emocao'], label = 'Contagem');"
   ]
  },
  {
   "cell_type": "markdown",
   "metadata": {},
   "source": [
    "Etapa 3: Função para pré-processamento dos textos"
   ]
  },
  {
   "cell_type": "code",
   "execution_count": null,
   "metadata": {},
   "outputs": [],
   "source": [
    "pontuacoes = string.punctuation\n",
    "pontuacoes"
   ]
  },
  {
   "cell_type": "code",
   "execution_count": null,
   "metadata": {},
   "outputs": [],
   "source": [
    "from spacy.lang.pt.stop_words import STOP_WORDS\n",
    "stop_words = STOP_WORDS"
   ]
  },
  {
   "cell_type": "code",
   "execution_count": null,
   "metadata": {},
   "outputs": [],
   "source": [
    "print(stop_words)"
   ]
  },
  {
   "cell_type": "code",
   "execution_count": null,
   "metadata": {},
   "outputs": [],
   "source": [
    "len(stop_words)"
   ]
  },
  {
   "cell_type": "code",
   "execution_count": null,
   "metadata": {},
   "outputs": [],
   "source": [
    "pln = spacy.load('pt_core_news_sm')\n",
    "pln"
   ]
  },
  {
   "cell_type": "code",
   "execution_count": null,
   "metadata": {},
   "outputs": [],
   "source": [
    "def preprocessamento(texto):\n",
    "    texto = texto.lower()\n",
    "    documento = pln(texto)\n",
    "\n",
    "    lista = []\n",
    "    for token in documento:\n",
    "        # lista.append(token.text)\n",
    "        lista.append(token.lemma_)\n",
    "\n",
    "    lista = [palavra for palavra in lista if palavra not in stop_words and palavra not in pontuacoes]\n",
    "    lista = ' '.join([str(elemento) for elemento in lista if not elemento.isdigit()])\n",
    "    \n",
    "    return lista"
   ]
  },
  {
   "cell_type": "code",
   "execution_count": null,
   "metadata": {},
   "outputs": [],
   "source": [
    "teste = preprocessamento('Estou aPrendendo processamento de linguagem natural, Curso em Curitiba 1 10 23')\n",
    "teste"
   ]
  },
  {
   "cell_type": "markdown",
   "metadata": {},
   "source": [
    "Etapa 4: Pré-processamento da base de dados"
   ]
  },
  {
   "cell_type": "code",
   "execution_count": null,
   "metadata": {},
   "outputs": [],
   "source": [
    "base_dados['texto'] = base_dados['texto'].apply(preprocessamento)"
   ]
  },
  {
   "cell_type": "code",
   "execution_count": null,
   "metadata": {},
   "outputs": [],
   "source": [
    "base_dados.head(10)"
   ]
  },
  {
   "cell_type": "markdown",
   "metadata": {},
   "source": [
    "Tratamento da classe"
   ]
  },
  {
   "cell_type": "code",
   "execution_count": null,
   "metadata": {},
   "outputs": [],
   "source": [
    "exemplo_base_dados = [[\"este trabalho é agradável\", {\"ALEGRIA\": True, \"MEDO\": True}],\n",
    "                      [\"este lugar continua assutador\", {\"ALEGRIA\": True, \"MEDO\": True}]]"
   ]
  },
  {
   "cell_type": "code",
   "execution_count": null,
   "metadata": {},
   "outputs": [],
   "source": [
    "type(exemplo_base_dados)"
   ]
  },
  {
   "cell_type": "code",
   "execution_count": null,
   "metadata": {},
   "outputs": [],
   "source": [
    "exemplo_base_dados[0]"
   ]
  },
  {
   "cell_type": "code",
   "execution_count": null,
   "metadata": {},
   "outputs": [],
   "source": [
    "exemplo_base_dados[0][0]"
   ]
  },
  {
   "cell_type": "code",
   "execution_count": null,
   "metadata": {},
   "outputs": [],
   "source": [
    "exemplo_base_dados[0][1]"
   ]
  },
  {
   "cell_type": "code",
   "execution_count": null,
   "metadata": {},
   "outputs": [],
   "source": [
    "type(exemplo_base_dados[0][1])"
   ]
  },
  {
   "cell_type": "code",
   "execution_count": null,
   "metadata": {},
   "outputs": [],
   "source": [
    "base_dados_final = []\n",
    "for texto, emocao in zip(base_dados['texto'], base_dados['emocao']):\n",
    "    # print(texto, emocao)\n",
    "    if emocao == 'alegria':\n",
    "        dic = ({'ALEGRIA': True, 'MEDO': False})\n",
    "    elif emocao == 'medo':\n",
    "        dic = ({'ALEGRIA': False, 'MEDO': True})\n",
    "\n",
    "    base_dados_final.append([texto, dic.copy()])"
   ]
  },
  {
   "cell_type": "code",
   "execution_count": null,
   "metadata": {},
   "outputs": [],
   "source": [
    "len(base_dados_final)"
   ]
  },
  {
   "cell_type": "code",
   "execution_count": null,
   "metadata": {},
   "outputs": [],
   "source": [
    "base_dados_final[0]"
   ]
  },
  {
   "cell_type": "code",
   "execution_count": null,
   "metadata": {},
   "outputs": [],
   "source": [
    "base_dados_final[0][0]"
   ]
  },
  {
   "cell_type": "code",
   "execution_count": null,
   "metadata": {},
   "outputs": [],
   "source": [
    "base_dados_final[0][1]"
   ]
  },
  {
   "cell_type": "code",
   "execution_count": null,
   "metadata": {},
   "outputs": [],
   "source": [
    "type(base_dados_final[0][1])"
   ]
  },
  {
   "cell_type": "code",
   "execution_count": null,
   "metadata": {},
   "outputs": [],
   "source": [
    "base_dados_final"
   ]
  },
  {
   "cell_type": "markdown",
   "metadata": {},
   "source": [
    "Etapa 5: Criação do Classificador"
   ]
  },
  {
   "cell_type": "code",
   "execution_count": null,
   "metadata": {},
   "outputs": [],
   "source": [
    "    !pip install spacy==2.2.3\n",
    "    !python3 -m spacy download pt"
   ]
  },
  {
   "cell_type": "code",
   "execution_count": 73,
   "metadata": {},
   "outputs": [
    {
     "ename": "ValueError",
     "evalue": "[E966] `nlp.add_pipe` now takes the string name of the registered component factory, not a callable component. Expected string, but got <spacy.pipeline.textcat.TextCategorizer object at 0x7fcccd1c8e20> (name: 'None').\n\n- If you created your component with `nlp.create_pipe('name')`: remove nlp.create_pipe and call `nlp.add_pipe('name')` instead.\n\n- If you passed in a component like `TextCategorizer()`: call `nlp.add_pipe` with the string name instead, e.g. `nlp.add_pipe('textcat')`.\n\n- If you're using a custom component: Add the decorator `@Language.component` (for function components) or `@Language.factory` (for class components / factories) to your custom component and assign it a name, e.g. `@Language.component('your_name')`. You can then run `nlp.add_pipe('your_name')` to add it to the pipeline.",
     "output_type": "error",
     "traceback": [
      "\u001b[0;31m---------------------------------------------------------------------------\u001b[0m",
      "\u001b[0;31mValueError\u001b[0m                                Traceback (most recent call last)",
      "\u001b[1;32m/home/breno/Projetos/CursoMachineLearning/Parte 5 - Topicos Complementares/Processamento de Linguagem Natural com spaCY e NLTY /Classificacao_de_texte_spaCy.ipynb Cell 39'\u001b[0m in \u001b[0;36m<cell line: 5>\u001b[0;34m()\u001b[0m\n\u001b[1;32m      <a href='vscode-notebook-cell:/home/breno/Projetos/CursoMachineLearning/Parte%205%20-%20Topicos%20Complementares/Processamento%20de%20Linguagem%20Natural%20com%20spaCY%20e%20NLTY%20/Classificacao_de_texte_spaCy.ipynb#ch0000038?line=2'>3</a>\u001b[0m categoria\u001b[39m.\u001b[39madd_label(\u001b[39m\"\u001b[39m\u001b[39mALEGRIA\u001b[39m\u001b[39m\"\u001b[39m)\n\u001b[1;32m      <a href='vscode-notebook-cell:/home/breno/Projetos/CursoMachineLearning/Parte%205%20-%20Topicos%20Complementares/Processamento%20de%20Linguagem%20Natural%20com%20spaCY%20e%20NLTY%20/Classificacao_de_texte_spaCy.ipynb#ch0000038?line=3'>4</a>\u001b[0m categoria\u001b[39m.\u001b[39madd_label(\u001b[39m\"\u001b[39m\u001b[39mMEDO\u001b[39m\u001b[39m\"\u001b[39m)\n\u001b[0;32m----> <a href='vscode-notebook-cell:/home/breno/Projetos/CursoMachineLearning/Parte%205%20-%20Topicos%20Complementares/Processamento%20de%20Linguagem%20Natural%20com%20spaCY%20e%20NLTY%20/Classificacao_de_texte_spaCy.ipynb#ch0000038?line=4'>5</a>\u001b[0m modelo\u001b[39m.\u001b[39;49madd_pipe(categoria)\n\u001b[1;32m      <a href='vscode-notebook-cell:/home/breno/Projetos/CursoMachineLearning/Parte%205%20-%20Topicos%20Complementares/Processamento%20de%20Linguagem%20Natural%20com%20spaCY%20e%20NLTY%20/Classificacao_de_texte_spaCy.ipynb#ch0000038?line=5'>6</a>\u001b[0m historico \u001b[39m=\u001b[39m []\n",
      "File \u001b[0;32m~/Projetos/CursoMachineLearning/machine/lib/python3.8/site-packages/spacy/language.py:773\u001b[0m, in \u001b[0;36mLanguage.add_pipe\u001b[0;34m(self, factory_name, name, before, after, first, last, source, config, raw_config, validate)\u001b[0m\n\u001b[1;32m    <a href='file:///home/breno/Projetos/CursoMachineLearning/machine/lib/python3.8/site-packages/spacy/language.py?line=770'>771</a>\u001b[0m     bad_val \u001b[39m=\u001b[39m \u001b[39mrepr\u001b[39m(factory_name)\n\u001b[1;32m    <a href='file:///home/breno/Projetos/CursoMachineLearning/machine/lib/python3.8/site-packages/spacy/language.py?line=771'>772</a>\u001b[0m     err \u001b[39m=\u001b[39m Errors\u001b[39m.\u001b[39mE966\u001b[39m.\u001b[39mformat(component\u001b[39m=\u001b[39mbad_val, name\u001b[39m=\u001b[39mname)\n\u001b[0;32m--> <a href='file:///home/breno/Projetos/CursoMachineLearning/machine/lib/python3.8/site-packages/spacy/language.py?line=772'>773</a>\u001b[0m     \u001b[39mraise\u001b[39;00m \u001b[39mValueError\u001b[39;00m(err)\n\u001b[1;32m    <a href='file:///home/breno/Projetos/CursoMachineLearning/machine/lib/python3.8/site-packages/spacy/language.py?line=773'>774</a>\u001b[0m name \u001b[39m=\u001b[39m name \u001b[39mif\u001b[39;00m name \u001b[39mis\u001b[39;00m \u001b[39mnot\u001b[39;00m \u001b[39mNone\u001b[39;00m \u001b[39melse\u001b[39;00m factory_name\n\u001b[1;32m    <a href='file:///home/breno/Projetos/CursoMachineLearning/machine/lib/python3.8/site-packages/spacy/language.py?line=774'>775</a>\u001b[0m \u001b[39mif\u001b[39;00m name \u001b[39min\u001b[39;00m \u001b[39mself\u001b[39m\u001b[39m.\u001b[39mcomponent_names:\n",
      "\u001b[0;31mValueError\u001b[0m: [E966] `nlp.add_pipe` now takes the string name of the registered component factory, not a callable component. Expected string, but got <spacy.pipeline.textcat.TextCategorizer object at 0x7fcccd1c8e20> (name: 'None').\n\n- If you created your component with `nlp.create_pipe('name')`: remove nlp.create_pipe and call `nlp.add_pipe('name')` instead.\n\n- If you passed in a component like `TextCategorizer()`: call `nlp.add_pipe` with the string name instead, e.g. `nlp.add_pipe('textcat')`.\n\n- If you're using a custom component: Add the decorator `@Language.component` (for function components) or `@Language.factory` (for class components / factories) to your custom component and assign it a name, e.g. `@Language.component('your_name')`. You can then run `nlp.add_pipe('your_name')` to add it to the pipeline."
     ]
    }
   ],
   "source": [
    "modelo = spacy.blank('pt')\n",
    "categoria = modelo.create_pipe(\"textcat\")\n",
    "categoria.add_label(\"ALEGRIA\")\n",
    "categoria.add_label(\"MEDO\")\n",
    "modelo.add_pipe(categoria)\n",
    "historico = []"
   ]
  },
  {
   "cell_type": "code",
   "execution_count": 72,
   "metadata": {},
   "outputs": [
    {
     "ename": "ValueError",
     "evalue": "[E989] `nlp.update()` was called with two positional arguments. This may be due to a backwards-incompatible change to the format of the training data in spaCy 3.0 onwards. The 'update' function should now be called with a batch of Example objects, instead of `(text, annotation)` tuples. ",
     "output_type": "error",
     "traceback": [
      "\u001b[0;31m---------------------------------------------------------------------------\u001b[0m",
      "\u001b[0;31mValueError\u001b[0m                                Traceback (most recent call last)",
      "\u001b[1;32m/home/breno/Projetos/CursoMachineLearning/Parte 5 - Topicos Complementares/Processamento de Linguagem Natural com spaCY e NLTY /Classificacao_de_texte_spaCy.ipynb Cell 39'\u001b[0m in \u001b[0;36m<cell line: 2>\u001b[0;34m()\u001b[0m\n\u001b[1;32m      <a href='vscode-notebook-cell:/home/breno/Projetos/CursoMachineLearning/Parte%205%20-%20Topicos%20Complementares/Processamento%20de%20Linguagem%20Natural%20com%20spaCY%20e%20NLTY%20/Classificacao_de_texte_spaCy.ipynb#ch0000039?line=5'>6</a>\u001b[0m     textos \u001b[39m=\u001b[39m [modelo(texto) \u001b[39mfor\u001b[39;00m texto, entities \u001b[39min\u001b[39;00m batch]\n\u001b[1;32m      <a href='vscode-notebook-cell:/home/breno/Projetos/CursoMachineLearning/Parte%205%20-%20Topicos%20Complementares/Processamento%20de%20Linguagem%20Natural%20com%20spaCY%20e%20NLTY%20/Classificacao_de_texte_spaCy.ipynb#ch0000039?line=6'>7</a>\u001b[0m     annotations \u001b[39m=\u001b[39m [{\u001b[39m'\u001b[39m\u001b[39mcats\u001b[39m\u001b[39m'\u001b[39m: entities} \u001b[39mfor\u001b[39;00m texto, entities \u001b[39min\u001b[39;00m batch]\n\u001b[0;32m----> <a href='vscode-notebook-cell:/home/breno/Projetos/CursoMachineLearning/Parte%205%20-%20Topicos%20Complementares/Processamento%20de%20Linguagem%20Natural%20com%20spaCY%20e%20NLTY%20/Classificacao_de_texte_spaCy.ipynb#ch0000039?line=7'>8</a>\u001b[0m     modelo\u001b[39m.\u001b[39;49mupdate(textos, annotations, losses\u001b[39m=\u001b[39;49m losses)\n\u001b[1;32m      <a href='vscode-notebook-cell:/home/breno/Projetos/CursoMachineLearning/Parte%205%20-%20Topicos%20Complementares/Processamento%20de%20Linguagem%20Natural%20com%20spaCY%20e%20NLTY%20/Classificacao_de_texte_spaCy.ipynb#ch0000039?line=8'>9</a>\u001b[0m \u001b[39mif\u001b[39;00m epoca \u001b[39m%\u001b[39m \u001b[39m100\u001b[39m \u001b[39m==\u001b[39m \u001b[39m0\u001b[39m:\n\u001b[1;32m     <a href='vscode-notebook-cell:/home/breno/Projetos/CursoMachineLearning/Parte%205%20-%20Topicos%20Complementares/Processamento%20de%20Linguagem%20Natural%20com%20spaCY%20e%20NLTY%20/Classificacao_de_texte_spaCy.ipynb#ch0000039?line=9'>10</a>\u001b[0m     \u001b[39mprint\u001b[39m(losses)\n",
      "File \u001b[0;32m~/Projetos/CursoMachineLearning/machine/lib/python3.8/site-packages/spacy/language.py:1134\u001b[0m, in \u001b[0;36mLanguage.update\u001b[0;34m(self, examples, _, drop, sgd, losses, component_cfg, exclude, annotates)\u001b[0m\n\u001b[1;32m   <a href='file:///home/breno/Projetos/CursoMachineLearning/machine/lib/python3.8/site-packages/spacy/language.py?line=1115'>1116</a>\u001b[0m \u001b[39m\"\"\"Update the models in the pipeline.\u001b[39;00m\n\u001b[1;32m   <a href='file:///home/breno/Projetos/CursoMachineLearning/machine/lib/python3.8/site-packages/spacy/language.py?line=1116'>1117</a>\u001b[0m \n\u001b[1;32m   <a href='file:///home/breno/Projetos/CursoMachineLearning/machine/lib/python3.8/site-packages/spacy/language.py?line=1117'>1118</a>\u001b[0m \u001b[39mexamples (Iterable[Example]): A batch of examples\u001b[39;00m\n\u001b[0;32m   (...)\u001b[0m\n\u001b[1;32m   <a href='file:///home/breno/Projetos/CursoMachineLearning/machine/lib/python3.8/site-packages/spacy/language.py?line=1130'>1131</a>\u001b[0m \u001b[39mDOCS: https://spacy.io/api/language#update\u001b[39;00m\n\u001b[1;32m   <a href='file:///home/breno/Projetos/CursoMachineLearning/machine/lib/python3.8/site-packages/spacy/language.py?line=1131'>1132</a>\u001b[0m \u001b[39m\"\"\"\u001b[39;00m\n\u001b[1;32m   <a href='file:///home/breno/Projetos/CursoMachineLearning/machine/lib/python3.8/site-packages/spacy/language.py?line=1132'>1133</a>\u001b[0m \u001b[39mif\u001b[39;00m _ \u001b[39mis\u001b[39;00m \u001b[39mnot\u001b[39;00m \u001b[39mNone\u001b[39;00m:\n\u001b[0;32m-> <a href='file:///home/breno/Projetos/CursoMachineLearning/machine/lib/python3.8/site-packages/spacy/language.py?line=1133'>1134</a>\u001b[0m     \u001b[39mraise\u001b[39;00m \u001b[39mValueError\u001b[39;00m(Errors\u001b[39m.\u001b[39mE989)\n\u001b[1;32m   <a href='file:///home/breno/Projetos/CursoMachineLearning/machine/lib/python3.8/site-packages/spacy/language.py?line=1134'>1135</a>\u001b[0m \u001b[39mif\u001b[39;00m losses \u001b[39mis\u001b[39;00m \u001b[39mNone\u001b[39;00m:\n\u001b[1;32m   <a href='file:///home/breno/Projetos/CursoMachineLearning/machine/lib/python3.8/site-packages/spacy/language.py?line=1135'>1136</a>\u001b[0m     losses \u001b[39m=\u001b[39m {}\n",
      "\u001b[0;31mValueError\u001b[0m: [E989] `nlp.update()` was called with two positional arguments. This may be due to a backwards-incompatible change to the format of the training data in spaCy 3.0 onwards. The 'update' function should now be called with a batch of Example objects, instead of `(text, annotation)` tuples. "
     ]
    }
   ],
   "source": [
    "modelo.begin_training()\n",
    "for epoca in range(1000):\n",
    "    random.shuffle(base_dados_final)\n",
    "    losses = {}\n",
    "    for batch in spacy.util.minibatch(base_dados_final, 30):\n",
    "        textos = [modelo(texto) for texto, entities in batch]\n",
    "        annotations = [{'cats': entities} for texto, entities in batch]\n",
    "        modelo.update(textos, annotations, losses= losses)\n",
    "    if epoca % 100 == 0:\n",
    "        print(losses)\n",
    "        historico.append(losses)"
   ]
  },
  {
   "cell_type": "markdown",
   "metadata": {},
   "source": [
    "Etapa 6: Testes com uma frase"
   ]
  },
  {
   "cell_type": "markdown",
   "metadata": {},
   "source": [
    "Etapa 7: Avaliação do Modelo"
   ]
  }
 ],
 "metadata": {
  "interpreter": {
   "hash": "552d2b7b9e9e4ed5a1d94a67e1ddcd9de1a38556c9f3135074669235b245b1d8"
  },
  "kernelspec": {
   "display_name": "Python 3.8.10 ('machine': venv)",
   "language": "python",
   "name": "python3"
  },
  "language_info": {
   "codemirror_mode": {
    "name": "ipython",
    "version": 3
   },
   "file_extension": ".py",
   "mimetype": "text/x-python",
   "name": "python",
   "nbconvert_exporter": "python",
   "pygments_lexer": "ipython3",
   "version": "3.8.10"
  },
  "orig_nbformat": 4
 },
 "nbformat": 4,
 "nbformat_minor": 2
}
