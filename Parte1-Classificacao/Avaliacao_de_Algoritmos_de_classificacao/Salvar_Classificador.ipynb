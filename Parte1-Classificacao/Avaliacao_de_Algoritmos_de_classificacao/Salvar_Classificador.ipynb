{
 "cells": [
  {
   "cell_type": "markdown",
   "metadata": {},
   "source": [
    "Salvar um Classificador já treinado"
   ]
  },
  {
   "cell_type": "code",
   "execution_count": 46,
   "metadata": {},
   "outputs": [],
   "source": [
    "from sklearn.model_selection import GridSearchCV\n",
    "from sklearn.tree import DecisionTreeClassifier\n",
    "from sklearn.ensemble import RandomForestClassifier\n",
    "from sklearn.neighbors import KNeighborsClassifier\n",
    "from sklearn.linear_model import LogisticRegression\n",
    "from sklearn.svm import SVC\n",
    "from sklearn.neural_network import MLPClassifier\n",
    "import numpy as np\n",
    "import pandas as pd\n",
    "import pickle"
   ]
  },
  {
   "cell_type": "code",
   "execution_count": 47,
   "metadata": {},
   "outputs": [],
   "source": [
    "with open('../credit.pkl', 'rb') as f:\n",
    "    x_credit_treinamento, y_credit_treinamento, x_credit_teste, y_credit_teste = pickle.load(f)"
   ]
  },
  {
   "cell_type": "code",
   "execution_count": 48,
   "metadata": {},
   "outputs": [
    {
     "data": {
      "text/plain": [
       "((1500, 3), (1500,))"
      ]
     },
     "execution_count": 48,
     "metadata": {},
     "output_type": "execute_result"
    }
   ],
   "source": [
    "x_credit_treinamento.shape, y_credit_treinamento.shape"
   ]
  },
  {
   "cell_type": "code",
   "execution_count": 49,
   "metadata": {},
   "outputs": [
    {
     "data": {
      "text/plain": [
       "((500, 3), (500,))"
      ]
     },
     "execution_count": 49,
     "metadata": {},
     "output_type": "execute_result"
    }
   ],
   "source": [
    "x_credit_teste.shape, y_credit_teste.shape"
   ]
  },
  {
   "cell_type": "code",
   "execution_count": 50,
   "metadata": {},
   "outputs": [],
   "source": [
    "x_credit = np.concatenate((x_credit_treinamento, x_credit_teste), axis = 0)\n",
    "y_credit = np.concatenate((y_credit_treinamento, y_credit_teste), axis = 0)"
   ]
  },
  {
   "cell_type": "code",
   "execution_count": 51,
   "metadata": {},
   "outputs": [],
   "source": [
    "from sklearn.neural_network import MLPClassifier\n",
    "from sklearn.tree import DecisionTreeClassifier\n",
    "from sklearn.svm import SVC"
   ]
  },
  {
   "cell_type": "code",
   "execution_count": 52,
   "metadata": {},
   "outputs": [
    {
     "name": "stderr",
     "output_type": "stream",
     "text": [
      "/home/breno/Projetos/CursoMachineLearning/machine/lib/python3.8/site-packages/sklearn/neural_network/_multilayer_perceptron.py:692: ConvergenceWarning: Stochastic Optimizer: Maximum iterations (200) reached and the optimization hasn't converged yet.\n",
      "  warnings.warn(\n"
     ]
    },
    {
     "data": {
      "text/plain": [
       "MLPClassifier(batch_size=56)"
      ]
     },
     "execution_count": 52,
     "metadata": {},
     "output_type": "execute_result"
    }
   ],
   "source": [
    "classificador_rede_neural = MLPClassifier(activation='relu', batch_size=56, solver='adam')\n",
    "classificador_rede_neural.fit(x_credit, y_credit)"
   ]
  },
  {
   "cell_type": "code",
   "execution_count": 53,
   "metadata": {},
   "outputs": [
    {
     "data": {
      "text/plain": [
       "DecisionTreeClassifier(criterion='entropy', min_samples_split=5)"
      ]
     },
     "execution_count": 53,
     "metadata": {},
     "output_type": "execute_result"
    }
   ],
   "source": [
    "classificador_arvore = DecisionTreeClassifier(criterion='entropy', min_samples_leaf=1, min_samples_split=5, splitter='best')\n",
    "classificador_arvore.fit(x_credit, y_credit)"
   ]
  },
  {
   "cell_type": "code",
   "execution_count": 54,
   "metadata": {},
   "outputs": [
    {
     "data": {
      "text/plain": [
       "SVC(C=2, probability=True)"
      ]
     },
     "execution_count": 54,
     "metadata": {},
     "output_type": "execute_result"
    }
   ],
   "source": [
    "classificador_svm = SVC(C=2, kernel='rbf', probability=True)\n",
    "classificador_svm.fit(x_credit, y_credit)"
   ]
  },
  {
   "cell_type": "code",
   "execution_count": 55,
   "metadata": {},
   "outputs": [],
   "source": [
    "import pickle\n",
    "pickle.dump(classificador_rede_neural, open('rede_neural_finalizado.sav', 'wb'))\n",
    "pickle.dump(classificador_arvore, open('arvore_finalizado.sav', 'wb'))\n",
    "pickle.dump(classificador_svm, open('svm_finalizado.sav', 'wb'))"
   ]
  },
  {
   "cell_type": "markdown",
   "metadata": {},
   "source": [
    "Carregar um classificador já treinado"
   ]
  },
  {
   "cell_type": "code",
   "execution_count": 56,
   "metadata": {},
   "outputs": [],
   "source": [
    "rede_neural = pickle.load(open('rede_neural_finalizado.sav', 'rb'))\n",
    "arvore = pickle.load(open('arvore_finalizado.sav', 'rb'))\n",
    "svm = pickle.load(open('svm_finalizado.sav', 'rb'))"
   ]
  },
  {
   "cell_type": "code",
   "execution_count": 57,
   "metadata": {},
   "outputs": [
    {
     "data": {
      "text/plain": [
       "array([-1.3754462 ,  0.50631087,  0.10980934])"
      ]
     },
     "execution_count": 57,
     "metadata": {},
     "output_type": "execute_result"
    }
   ],
   "source": [
    "novo_registro = x_credit[0]\n",
    "novo_registro"
   ]
  },
  {
   "cell_type": "code",
   "execution_count": 58,
   "metadata": {},
   "outputs": [
    {
     "data": {
      "text/plain": [
       "(3,)"
      ]
     },
     "execution_count": 58,
     "metadata": {},
     "output_type": "execute_result"
    }
   ],
   "source": [
    "novo_registro.shape"
   ]
  },
  {
   "cell_type": "code",
   "execution_count": 59,
   "metadata": {},
   "outputs": [
    {
     "data": {
      "text/plain": [
       "(1, 3)"
      ]
     },
     "execution_count": 59,
     "metadata": {},
     "output_type": "execute_result"
    }
   ],
   "source": [
    "novo_registro = novo_registro.reshape(1, -1)\n",
    "novo_registro.shape"
   ]
  },
  {
   "cell_type": "code",
   "execution_count": 60,
   "metadata": {},
   "outputs": [],
   "source": [
    "resposta_rede_neural = rede_neural.predict(novo_registro)"
   ]
  },
  {
   "cell_type": "code",
   "execution_count": 61,
   "metadata": {},
   "outputs": [],
   "source": [
    "resposta_arvore = arvore.predict(novo_registro)"
   ]
  },
  {
   "cell_type": "code",
   "execution_count": 62,
   "metadata": {},
   "outputs": [],
   "source": [
    "resposta_svm = svm.predict(novo_registro)"
   ]
  },
  {
   "cell_type": "code",
   "execution_count": 63,
   "metadata": {},
   "outputs": [
    {
     "name": "stdout",
     "output_type": "stream",
     "text": [
      "Cliente pagará o emprestimo\n"
     ]
    }
   ],
   "source": [
    "paga = 0\n",
    "nao_paga = 0\n",
    "\n",
    "if resposta_rede_neural[0] == 1:\n",
    "    nao_paga += 1\n",
    "else:\n",
    "    paga += 1\n",
    "\n",
    "if resposta_arvore[0] == 1:\n",
    "    nao_paga += 1\n",
    "else:\n",
    "    paga += 1\n",
    "\n",
    "if resposta_svm[0] ==1:\n",
    "    nao_paga += 1\n",
    "else:\n",
    "    paga += 1\n",
    "\n",
    "\n",
    "if paga > nao_paga:\n",
    "    print('Cliente pagará o emprestimo')\n",
    "elif paga == nao_paga:\n",
    "    print('Empate')\n",
    "else:\n",
    "    print('Cliente não paragá o emprestimo')\n"
   ]
  },
  {
   "cell_type": "markdown",
   "metadata": {},
   "source": [
    "Rejeição de classificadores"
   ]
  },
  {
   "cell_type": "code",
   "execution_count": 64,
   "metadata": {},
   "outputs": [
    {
     "data": {
      "text/plain": [
       "(array([[-1.3754462 ,  0.50631087,  0.10980934]]), (1, 3))"
      ]
     },
     "execution_count": 64,
     "metadata": {},
     "output_type": "execute_result"
    }
   ],
   "source": [
    "novo_registro = x_credit[0]\n",
    "novo_registro = novo_registro.reshape(1, -1)\n",
    "novo_registro, novo_registro.shape"
   ]
  },
  {
   "cell_type": "code",
   "execution_count": 65,
   "metadata": {},
   "outputs": [],
   "source": [
    "resposta_rede_neural = rede_neural.predict(novo_registro)\n",
    "resposta_arvore = arvore.predict(novo_registro)\n",
    "resposta_svm = svm.predict(novo_registro)"
   ]
  },
  {
   "cell_type": "code",
   "execution_count": 66,
   "metadata": {},
   "outputs": [
    {
     "data": {
      "text/plain": [
       "(0, 0, 0)"
      ]
     },
     "execution_count": 66,
     "metadata": {},
     "output_type": "execute_result"
    }
   ],
   "source": [
    "resposta_rede_neural[0], resposta_arvore[0], resposta_svm[0]"
   ]
  },
  {
   "cell_type": "code",
   "execution_count": 67,
   "metadata": {},
   "outputs": [
    {
     "data": {
      "text/plain": [
       "array([[1.00000000e+00, 4.00586179e-16]])"
      ]
     },
     "execution_count": 67,
     "metadata": {},
     "output_type": "execute_result"
    }
   ],
   "source": [
    "probabilidade_rede_neural = rede_neural.predict_proba(novo_registro)\n",
    "probabilidade_rede_neural"
   ]
  },
  {
   "cell_type": "code",
   "execution_count": 68,
   "metadata": {},
   "outputs": [
    {
     "data": {
      "text/plain": [
       "0.9999999999999996"
      ]
     },
     "execution_count": 68,
     "metadata": {},
     "output_type": "execute_result"
    }
   ],
   "source": [
    "confianca_rede_neural = probabilidade_rede_neural.max()\n",
    "confianca_rede_neural"
   ]
  },
  {
   "cell_type": "code",
   "execution_count": 69,
   "metadata": {},
   "outputs": [
    {
     "data": {
      "text/plain": [
       "1.0"
      ]
     },
     "execution_count": 69,
     "metadata": {},
     "output_type": "execute_result"
    }
   ],
   "source": [
    "probabilidade_arvore = arvore.predict_proba(novo_registro)\n",
    "confianca_arvore = probabilidade_arvore.max()\n",
    "confianca_arvore"
   ]
  },
  {
   "cell_type": "code",
   "execution_count": 70,
   "metadata": {},
   "outputs": [
    {
     "data": {
      "text/plain": [
       "0.9999974862820838"
      ]
     },
     "execution_count": 70,
     "metadata": {},
     "output_type": "execute_result"
    }
   ],
   "source": [
    "probabilidade_svm = svm.predict_proba(novo_registro)\n",
    "confianca_svm = probabilidade_svm.max()\n",
    "confianca_svm"
   ]
  },
  {
   "cell_type": "code",
   "execution_count": 73,
   "metadata": {},
   "outputs": [
    {
     "name": "stdout",
     "output_type": "stream",
     "text": [
      "Cliente pagará o emprestimo, baseado em 2\n"
     ]
    }
   ],
   "source": [
    "paga = 0\n",
    "nao_paga = 0\n",
    "confianca_minima = 0.999999\n",
    "algoritmos = 0\n",
    "\n",
    "if confianca_rede_neural >= confianca_minima:\n",
    "    algoritmos += 1\n",
    "    if resposta_rede_neural[0] == 1:\n",
    "        nao_paga += 1\n",
    "    else:\n",
    "        paga += 1\n",
    "\n",
    "if confianca_arvore >= confianca_minima:\n",
    "    algoritmos += 1\n",
    "    if resposta_arvore[0] == 1:\n",
    "        nao_paga += 1\n",
    "    else:\n",
    "        paga += 1\n",
    "\n",
    "if confianca_svm >= confianca_minima:\n",
    "    algoritmos += 1\n",
    "    if resposta_svm[0] ==1:\n",
    "        nao_paga += 1\n",
    "    else:\n",
    "        paga += 1\n",
    "\n",
    "\n",
    "if paga > nao_paga:\n",
    "    print('Cliente pagará o emprestimo, baseado em {}'.format(algoritmos))\n",
    "elif paga == nao_paga:\n",
    "    print('Empate, baseado em {}'.format(algoritmos))\n",
    "else:\n",
    "    print('Cliente não paragá o emprestimo, baseado em {}'.format(algoritmos))\n"
   ]
  }
 ],
 "metadata": {
  "interpreter": {
   "hash": "552d2b7b9e9e4ed5a1d94a67e1ddcd9de1a38556c9f3135074669235b245b1d8"
  },
  "kernelspec": {
   "display_name": "Python 3.8.10 ('machine': venv)",
   "language": "python",
   "name": "python3"
  },
  "language_info": {
   "codemirror_mode": {
    "name": "ipython",
    "version": 3
   },
   "file_extension": ".py",
   "mimetype": "text/x-python",
   "name": "python",
   "nbconvert_exporter": "python",
   "pygments_lexer": "ipython3",
   "version": "3.8.10"
  },
  "orig_nbformat": 4
 },
 "nbformat": 4,
 "nbformat_minor": 2
}
