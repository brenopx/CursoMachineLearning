{
  "cells": [
    {
      "cell_type": "markdown",
      "metadata": {
        "id": "OsYdsrx-AVXI"
      },
      "source": [
        "# Exercício 1\n",
        "\n",
        "Crie uma lista vazia e faça a leitura de dois valores do tipo float, colocando cada um dos valores nas primeiras posições da lista (o valor1 ficará na posição 0 da lista e o valor2 ficará na posição 1 da lista). Faça a divisão dos dois valores e trate as seguintes exceções\n",
        "- ValueError: se o usuário digitar um caracter\n",
        "- ZeroDivisionError: se o usuário digitar zero e ocorrer erro na divisão\n",
        "- IndexError: caso a divisão seja feita levando em consideração posições que não existem na lista\n",
        "- KeyboardInterrupt: caso o usuário interrompa a execução\n",
        "\n",
        "Mostra uma mensagem personalizada na ocorrência de cada um desses erros"
      ]
    },
    {
      "cell_type": "code",
      "execution_count": null,
      "metadata": {
        "colab": {
          "base_uri": "https://localhost:8080/",
          "height": 90
        },
        "id": "UHlExDgoMK6Z",
        "outputId": "544622ea-4aee-49a0-f1b3-73640eb4b165"
      },
      "outputs": [
        {
          "name": "stdout",
          "output_type": "stream",
          "text": [
            "Digite o primeiro valor: 8\n",
            "Usuário interrompeu a execução\n"
          ]
        }
      ],
      "source": [
        "lista = []\n",
        "try:\n",
        "  lista.append(float(input('Digite o primeiro valor: ')))\n",
        "  lista.append(float(input('Digite o segundo valor: ')))\n",
        "  divisao = lista[0] / lista[1]\n",
        "except ValueError:\n",
        "  print('Erro! Valor inválido')\n",
        "except ZeroDivisionError:\n",
        "  print('Erro! Divisão por zero')\n",
        "except IndexError:\n",
        "  print('Erro! Índice inválido')\n",
        "except KeyboardInterrupt:\n",
        "  print('Usuário interrompeu a execução')\n",
        "else:\n",
        "  print(f'A divisão é {divisao}')"
      ]
    }
  ],
  "metadata": {
    "colab": {
      "collapsed_sections": [],
      "name": "Exercício Tratamento de erros e exceções.ipynb",
      "provenance": []
    },
    "kernelspec": {
      "display_name": "Python 3.8.10 64-bit",
      "language": "python",
      "name": "python3"
    },
    "language_info": {
      "name": "python",
      "version": "3.8.10"
    },
    "vscode": {
      "interpreter": {
        "hash": "916dbcbb3f70747c44a77c7bcd40155683ae19c65e1c03b4aa3499c5328201f1"
      }
    }
  },
  "nbformat": 4,
  "nbformat_minor": 0
}
